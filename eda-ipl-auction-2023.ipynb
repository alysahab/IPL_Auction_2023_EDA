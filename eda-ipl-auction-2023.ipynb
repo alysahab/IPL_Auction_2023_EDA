{
 "cells": [
  {
   "cell_type": "markdown",
   "id": "f67a134f",
   "metadata": {
    "toc": true
   },
   "source": [
    "<h1>Table of Contents<span class=\"tocSkip\"></span></h1>\n",
    "<div class=\"toc\"><ul class=\"toc-item\"><li><span><a href=\"#Introduction:\" data-toc-modified-id=\"Introduction:-1\">Introduction:</a></span></li><li><span><a href=\"#Objective:\" data-toc-modified-id=\"Objective:-2\">Objective:</a></span><ul class=\"toc-item\"><li><span><a href=\"#Analysis:-Which-franchise-spent-the-most-on-players?\" data-toc-modified-id=\"Analysis:-Which-franchise-spent-the-most-on-players?-2.1\">Analysis: Which franchise spent the most on players?</a></span></li><li><span><a href=\"#Analysis:-Player-styles-cost\" data-toc-modified-id=\"Analysis:-Player-styles-cost-2.2\">Analysis: Player styles cost</a></span></li><li><span><a href=\"#Analysis:-Player-styles\" data-toc-modified-id=\"Analysis:-Player-styles-2.3\">Analysis: Player styles</a></span></li></ul></li><li><span><a href=\"#Conclusion:\" data-toc-modified-id=\"Conclusion:-3\">Conclusion:</a></span></li></ul></div>"
   ]
  },
  {
   "cell_type": "markdown",
   "id": "97fbf3b6",
   "metadata": {
    "_cell_guid": "b1076dfc-b9ad-4769-8c92-a6c4dae69d19",
    "_uuid": "8f2839f25d086af736a60e9eeb907d3b93b6e0e5",
    "execution": {
     "iopub.execute_input": "2024-03-12T12:35:17.477143Z",
     "iopub.status.busy": "2024-03-12T12:35:17.476349Z",
     "iopub.status.idle": "2024-03-12T12:35:18.523538Z",
     "shell.execute_reply": "2024-03-12T12:35:18.522357Z"
    },
    "papermill": {
     "duration": 1.070699,
     "end_time": "2024-03-12T12:35:18.526244",
     "exception": false,
     "start_time": "2024-03-12T12:35:17.455545",
     "status": "completed"
    },
    "tags": []
   },
   "source": [
    "# Exploratory Data Analysis (EDA) of IPL Auction Dataset\n",
    "\n",
    "## Introduction:\n",
    "The Indian Premier League (IPL) stands as one of the most popular and lucrative professional Twenty20 cricket leagues globally. Since its inception in 2008, the IPL has revolutionized cricket, blending sports entertainment with high-stakes competition. With its star-studded lineups, thrilling matches, and innovative formats, the IPL has garnered a massive following, both among cricket enthusiasts and casual viewers.\n",
    "\n",
    "The IPL Auction Dataset serves as a valuable resource for understanding the intricate dynamics of player auctions within the IPL ecosystem. This dataset encompasses various attributes such as player styles, base prices, final prices, franchises, and nationalities, providing a comprehensive snapshot of player acquisitions across different IPL seasons.\n",
    "\n",
    "Exploratory Data Analysis (EDA) plays a pivotal role in unraveling the underlying patterns and trends hidden within the IPL Auction Dataset. By meticulously examining the data through visualizations, statistical analyses, and data manipulation techniques, EDA enables us to uncover valuable insights that can inform strategic decisions for franchises, shed light on player valuation dynamics, and offer a deeper understanding of the IPL landscape.\n",
    "\n",
    "## Objective:\n",
    "The primary objective of this EDA is to delve into the IPL Auction Dataset and extract actionable insights that can enhance our understanding of player acquisitions and franchise strategies within the IPL. Through this analysis, we aim to address the following key questions:\n",
    "\n",
    "1. What are the spending patterns of franchises during player auctions?\n",
    "2. How do player styles influence final prices in the IPL Auction?\n",
    "3. Which franchises invest the most in player acquisitions?\n",
    "4. What is the distribution of players across franchises based on player styles and nationalities?\n",
    "\n",
    "By systematically exploring these questions, we seek to provide stakeholders, cricket enthusiasts, and data enthusiasts alike with a comprehensive overview of the IPL Auction landscape and its implications for team strategies and player valuations."
   ]
  },
  {
   "cell_type": "markdown",
   "id": "f14970d4",
   "metadata": {
    "papermill": {
     "duration": 0.014362,
     "end_time": "2024-03-12T12:35:18.555445",
     "exception": false,
     "start_time": "2024-03-12T12:35:18.541083",
     "status": "completed"
    },
    "tags": []
   },
   "source": [
    "# Importing necessary libraries"
   ]
  },
  {
   "cell_type": "code",
   "execution_count": 2,
   "id": "cc713bda",
   "metadata": {
    "execution": {
     "iopub.execute_input": "2024-03-12T12:35:18.587170Z",
     "iopub.status.busy": "2024-03-12T12:35:18.586374Z",
     "iopub.status.idle": "2024-03-12T12:35:20.789530Z",
     "shell.execute_reply": "2024-03-12T12:35:20.788076Z"
    },
    "papermill": {
     "duration": 2.222073,
     "end_time": "2024-03-12T12:35:20.792237",
     "exception": false,
     "start_time": "2024-03-12T12:35:18.570164",
     "status": "completed"
    },
    "tags": []
   },
   "outputs": [],
   "source": [
    "import pandas as pd\n",
    "import numpy as np\n",
    "import seaborn as sns\n",
    "import matplotlib.pyplot as plt\n",
    "from sklearn.impute import KNNImputer"
   ]
  },
  {
   "cell_type": "code",
   "execution_count": 3,
   "id": "7d74f27d",
   "metadata": {
    "execution": {
     "iopub.execute_input": "2024-03-12T12:35:20.825556Z",
     "iopub.status.busy": "2024-03-12T12:35:20.825185Z",
     "iopub.status.idle": "2024-03-12T12:35:20.869542Z",
     "shell.execute_reply": "2024-03-12T12:35:20.868315Z"
    },
    "papermill": {
     "duration": 0.064621,
     "end_time": "2024-03-12T12:35:20.872231",
     "exception": false,
     "start_time": "2024-03-12T12:35:20.807610",
     "status": "completed"
    },
    "tags": []
   },
   "outputs": [
    {
     "data": {
      "text/html": [
       "<div>\n",
       "<style scoped>\n",
       "    .dataframe tbody tr th:only-of-type {\n",
       "        vertical-align: middle;\n",
       "    }\n",
       "\n",
       "    .dataframe tbody tr th {\n",
       "        vertical-align: top;\n",
       "    }\n",
       "\n",
       "    .dataframe thead th {\n",
       "        text-align: right;\n",
       "    }\n",
       "</style>\n",
       "<table border=\"1\" class=\"dataframe\">\n",
       "  <thead>\n",
       "    <tr style=\"text-align: right;\">\n",
       "      <th></th>\n",
       "      <th>name</th>\n",
       "      <th>player style</th>\n",
       "      <th>nationality</th>\n",
       "      <th>base price (in lacs)</th>\n",
       "      <th>final price (in lacs)</th>\n",
       "      <th>franchise</th>\n",
       "      <th>status</th>\n",
       "    </tr>\n",
       "  </thead>\n",
       "  <tbody>\n",
       "    <tr>\n",
       "      <th>38</th>\n",
       "      <td>Kunal Singh Rathore</td>\n",
       "      <td>WK-Batter</td>\n",
       "      <td>India</td>\n",
       "      <td>20.0</td>\n",
       "      <td>20.0</td>\n",
       "      <td>RR</td>\n",
       "      <td>SOLD</td>\n",
       "    </tr>\n",
       "    <tr>\n",
       "      <th>113</th>\n",
       "      <td>Sanvir Singh</td>\n",
       "      <td>Allrounder</td>\n",
       "      <td>India</td>\n",
       "      <td>20.0</td>\n",
       "      <td>20.0</td>\n",
       "      <td>SRH</td>\n",
       "      <td>SOLD</td>\n",
       "    </tr>\n",
       "    <tr>\n",
       "      <th>192</th>\n",
       "      <td>Suyash Prabhudessai</td>\n",
       "      <td>Batter</td>\n",
       "      <td>India</td>\n",
       "      <td>NaN</td>\n",
       "      <td>30.0</td>\n",
       "      <td>RCB</td>\n",
       "      <td>RETAINED</td>\n",
       "    </tr>\n",
       "    <tr>\n",
       "      <th>172</th>\n",
       "      <td>Kuldeep Yadav</td>\n",
       "      <td>Bowler</td>\n",
       "      <td>India</td>\n",
       "      <td>NaN</td>\n",
       "      <td>200.0</td>\n",
       "      <td>DC</td>\n",
       "      <td>RETAINED</td>\n",
       "    </tr>\n",
       "    <tr>\n",
       "      <th>28</th>\n",
       "      <td>Mohit Rathee</td>\n",
       "      <td>Allrounder</td>\n",
       "      <td>India</td>\n",
       "      <td>20.0</td>\n",
       "      <td>20.0</td>\n",
       "      <td>PBKS</td>\n",
       "      <td>SOLD</td>\n",
       "    </tr>\n",
       "  </tbody>\n",
       "</table>\n",
       "</div>"
      ],
      "text/plain": [
       "                    name player style nationality  base price (in lacs)  \\\n",
       "38   Kunal Singh Rathore    WK-Batter       India                  20.0   \n",
       "113         Sanvir Singh   Allrounder       India                  20.0   \n",
       "192  Suyash Prabhudessai       Batter       India                   NaN   \n",
       "172        Kuldeep Yadav       Bowler       India                   NaN   \n",
       "28          Mohit Rathee   Allrounder       India                  20.0   \n",
       "\n",
       "     final price (in lacs) franchise    status  \n",
       "38                    20.0        RR      SOLD  \n",
       "113                   20.0       SRH      SOLD  \n",
       "192                   30.0       RCB  RETAINED  \n",
       "172                  200.0        DC  RETAINED  \n",
       "28                    20.0      PBKS      SOLD  "
      ]
     },
     "execution_count": 3,
     "metadata": {},
     "output_type": "execute_result"
    }
   ],
   "source": [
    "# Load the IPL dataset\n",
    "data = pd.read_csv('iplauction2023.csv')\n",
    "\n",
    "# Displaying a random sample of the data\n",
    "data.sample(5)"
   ]
  },
  {
   "cell_type": "code",
   "execution_count": 4,
   "id": "3e4f9f1f",
   "metadata": {
    "execution": {
     "iopub.execute_input": "2024-03-12T12:35:20.904791Z",
     "iopub.status.busy": "2024-03-12T12:35:20.904348Z",
     "iopub.status.idle": "2024-03-12T12:35:20.936018Z",
     "shell.execute_reply": "2024-03-12T12:35:20.934826Z"
    },
    "papermill": {
     "duration": 0.05126,
     "end_time": "2024-03-12T12:35:20.938773",
     "exception": false,
     "start_time": "2024-03-12T12:35:20.887513",
     "status": "completed"
    },
    "tags": []
   },
   "outputs": [
    {
     "name": "stdout",
     "output_type": "stream",
     "text": [
      "<class 'pandas.core.frame.DataFrame'>\n",
      "RangeIndex: 309 entries, 0 to 308\n",
      "Data columns (total 7 columns):\n",
      " #   Column                 Non-Null Count  Dtype  \n",
      "---  ------                 --------------  -----  \n",
      " 0   name                   309 non-null    object \n",
      " 1   player style           309 non-null    object \n",
      " 2   nationality            309 non-null    object \n",
      " 3   base price (in lacs)   151 non-null    float64\n",
      " 4   final price (in lacs)  238 non-null    float64\n",
      " 5   franchise              238 non-null    object \n",
      " 6   status                 309 non-null    object \n",
      "dtypes: float64(2), object(5)\n",
      "memory usage: 17.0+ KB\n"
     ]
    }
   ],
   "source": [
    "# Displaying information about the dataset\n",
    "\n",
    "data.info()"
   ]
  },
  {
   "cell_type": "code",
   "execution_count": 5,
   "id": "795c7bb2",
   "metadata": {
    "execution": {
     "iopub.execute_input": "2024-03-12T12:35:20.972708Z",
     "iopub.status.busy": "2024-03-12T12:35:20.972300Z",
     "iopub.status.idle": "2024-03-12T12:35:20.991018Z",
     "shell.execute_reply": "2024-03-12T12:35:20.990177Z"
    },
    "papermill": {
     "duration": 0.038503,
     "end_time": "2024-03-12T12:35:20.993154",
     "exception": false,
     "start_time": "2024-03-12T12:35:20.954651",
     "status": "completed"
    },
    "tags": []
   },
   "outputs": [
    {
     "data": {
      "text/html": [
       "<div>\n",
       "<style scoped>\n",
       "    .dataframe tbody tr th:only-of-type {\n",
       "        vertical-align: middle;\n",
       "    }\n",
       "\n",
       "    .dataframe tbody tr th {\n",
       "        vertical-align: top;\n",
       "    }\n",
       "\n",
       "    .dataframe thead th {\n",
       "        text-align: right;\n",
       "    }\n",
       "</style>\n",
       "<table border=\"1\" class=\"dataframe\">\n",
       "  <thead>\n",
       "    <tr style=\"text-align: right;\">\n",
       "      <th></th>\n",
       "      <th>base price (in lacs)</th>\n",
       "      <th>final price (in lacs)</th>\n",
       "    </tr>\n",
       "  </thead>\n",
       "  <tbody>\n",
       "    <tr>\n",
       "      <th>count</th>\n",
       "      <td>151.000000</td>\n",
       "      <td>238.000000</td>\n",
       "    </tr>\n",
       "    <tr>\n",
       "      <th>mean</th>\n",
       "      <td>59.205298</td>\n",
       "      <td>368.067227</td>\n",
       "    </tr>\n",
       "    <tr>\n",
       "      <th>std</th>\n",
       "      <td>59.688337</td>\n",
       "      <td>449.070117</td>\n",
       "    </tr>\n",
       "    <tr>\n",
       "      <th>min</th>\n",
       "      <td>20.000000</td>\n",
       "      <td>20.000000</td>\n",
       "    </tr>\n",
       "    <tr>\n",
       "      <th>25%</th>\n",
       "      <td>20.000000</td>\n",
       "      <td>21.250000</td>\n",
       "    </tr>\n",
       "    <tr>\n",
       "      <th>50%</th>\n",
       "      <td>20.000000</td>\n",
       "      <td>150.000000</td>\n",
       "    </tr>\n",
       "    <tr>\n",
       "      <th>75%</th>\n",
       "      <td>75.000000</td>\n",
       "      <td>625.000000</td>\n",
       "    </tr>\n",
       "    <tr>\n",
       "      <th>max</th>\n",
       "      <td>200.000000</td>\n",
       "      <td>1850.000000</td>\n",
       "    </tr>\n",
       "  </tbody>\n",
       "</table>\n",
       "</div>"
      ],
      "text/plain": [
       "       base price (in lacs)  final price (in lacs)\n",
       "count            151.000000             238.000000\n",
       "mean              59.205298             368.067227\n",
       "std               59.688337             449.070117\n",
       "min               20.000000              20.000000\n",
       "25%               20.000000              21.250000\n",
       "50%               20.000000             150.000000\n",
       "75%               75.000000             625.000000\n",
       "max              200.000000            1850.000000"
      ]
     },
     "execution_count": 5,
     "metadata": {},
     "output_type": "execute_result"
    }
   ],
   "source": [
    "# Descriptive statistics summary\n",
    "data.describe()"
   ]
  },
  {
   "cell_type": "markdown",
   "id": "17997c65",
   "metadata": {
    "papermill": {
     "duration": 0.01878,
     "end_time": "2024-03-12T12:35:21.032125",
     "exception": false,
     "start_time": "2024-03-12T12:35:21.013345",
     "status": "completed"
    },
    "tags": []
   },
   "source": [
    "# Cleaning Dataset"
   ]
  },
  {
   "cell_type": "code",
   "execution_count": 6,
   "id": "fabbbd42",
   "metadata": {
    "execution": {
     "iopub.execute_input": "2024-03-12T12:35:21.072278Z",
     "iopub.status.busy": "2024-03-12T12:35:21.071530Z",
     "iopub.status.idle": "2024-03-12T12:35:21.081692Z",
     "shell.execute_reply": "2024-03-12T12:35:21.080517Z"
    },
    "papermill": {
     "duration": 0.03102,
     "end_time": "2024-03-12T12:35:21.084361",
     "exception": false,
     "start_time": "2024-03-12T12:35:21.053341",
     "status": "completed"
    },
    "tags": []
   },
   "outputs": [
    {
     "data": {
      "text/plain": [
       "name                       0\n",
       "player style               0\n",
       "nationality                0\n",
       "base price (in lacs)     158\n",
       "final price (in lacs)     71\n",
       "franchise                 71\n",
       "status                     0\n",
       "dtype: int64"
      ]
     },
     "execution_count": 6,
     "metadata": {},
     "output_type": "execute_result"
    }
   ],
   "source": [
    "# Checking for missing values\n",
    "data.isnull().sum()"
   ]
  },
  {
   "cell_type": "code",
   "execution_count": 7,
   "id": "cf88e42d",
   "metadata": {
    "execution": {
     "iopub.execute_input": "2024-03-12T12:35:21.117899Z",
     "iopub.status.busy": "2024-03-12T12:35:21.117494Z",
     "iopub.status.idle": "2024-03-12T12:35:21.127383Z",
     "shell.execute_reply": "2024-03-12T12:35:21.126250Z"
    },
    "papermill": {
     "duration": 0.029693,
     "end_time": "2024-03-12T12:35:21.129772",
     "exception": false,
     "start_time": "2024-03-12T12:35:21.100079",
     "status": "completed"
    },
    "tags": []
   },
   "outputs": [
    {
     "data": {
      "text/plain": [
       "0"
      ]
     },
     "execution_count": 7,
     "metadata": {},
     "output_type": "execute_result"
    }
   ],
   "source": [
    "# Checking for duplicated rows\n",
    "data.duplicated().sum()"
   ]
  },
  {
   "cell_type": "code",
   "execution_count": 8,
   "id": "85c39f28",
   "metadata": {
    "execution": {
     "iopub.execute_input": "2024-03-12T12:35:21.163731Z",
     "iopub.status.busy": "2024-03-12T12:35:21.162890Z",
     "iopub.status.idle": "2024-03-12T12:35:21.169853Z",
     "shell.execute_reply": "2024-03-12T12:35:21.168861Z"
    },
    "papermill": {
     "duration": 0.026875,
     "end_time": "2024-03-12T12:35:21.172470",
     "exception": false,
     "start_time": "2024-03-12T12:35:21.145595",
     "status": "completed"
    },
    "tags": []
   },
   "outputs": [],
   "source": [
    "# Creating a copy of the dataset\n",
    "df = data.copy()\n",
    "\n",
    "# Renaming columns for consistency\n",
    "df.rename(columns={'player style': 'player_style', 'base price (in lacs)': 'base_price', 'final price (in lacs)': 'final_price'}, inplace=True)"
   ]
  },
  {
   "cell_type": "markdown",
   "id": "f9a8ebd1",
   "metadata": {
    "papermill": {
     "duration": 0.015835,
     "end_time": "2024-03-12T12:35:21.203958",
     "exception": false,
     "start_time": "2024-03-12T12:35:21.188123",
     "status": "completed"
    },
    "tags": []
   },
   "source": [
    "- As we can see both final_price and franchise have same numbers of missing values. Let's check if they have any relationship"
   ]
  },
  {
   "cell_type": "code",
   "execution_count": 9,
   "id": "8bd3bfa2",
   "metadata": {
    "execution": {
     "iopub.execute_input": "2024-03-12T12:35:21.238634Z",
     "iopub.status.busy": "2024-03-12T12:35:21.237586Z",
     "iopub.status.idle": "2024-03-12T12:35:21.257074Z",
     "shell.execute_reply": "2024-03-12T12:35:21.255896Z"
    },
    "papermill": {
     "duration": 0.040228,
     "end_time": "2024-03-12T12:35:21.259858",
     "exception": false,
     "start_time": "2024-03-12T12:35:21.219630",
     "status": "completed"
    },
    "tags": []
   },
   "outputs": [
    {
     "data": {
      "text/html": [
       "<div>\n",
       "<style scoped>\n",
       "    .dataframe tbody tr th:only-of-type {\n",
       "        vertical-align: middle;\n",
       "    }\n",
       "\n",
       "    .dataframe tbody tr th {\n",
       "        vertical-align: top;\n",
       "    }\n",
       "\n",
       "    .dataframe thead th {\n",
       "        text-align: right;\n",
       "    }\n",
       "</style>\n",
       "<table border=\"1\" class=\"dataframe\">\n",
       "  <thead>\n",
       "    <tr style=\"text-align: right;\">\n",
       "      <th></th>\n",
       "      <th>name</th>\n",
       "      <th>player_style</th>\n",
       "      <th>nationality</th>\n",
       "      <th>base_price</th>\n",
       "      <th>final_price</th>\n",
       "      <th>franchise</th>\n",
       "      <th>status</th>\n",
       "    </tr>\n",
       "  </thead>\n",
       "  <tbody>\n",
       "    <tr>\n",
       "      <th>1</th>\n",
       "      <td>Ekant Sen</td>\n",
       "      <td>Batter</td>\n",
       "      <td>India</td>\n",
       "      <td>20.0</td>\n",
       "      <td>NaN</td>\n",
       "      <td>NaN</td>\n",
       "      <td>UNSOLD</td>\n",
       "    </tr>\n",
       "    <tr>\n",
       "      <th>2</th>\n",
       "      <td>Wayne Parnell</td>\n",
       "      <td>Allrounder</td>\n",
       "      <td>South Africa</td>\n",
       "      <td>75.0</td>\n",
       "      <td>NaN</td>\n",
       "      <td>NaN</td>\n",
       "      <td>UNSOLD</td>\n",
       "    </tr>\n",
       "    <tr>\n",
       "      <th>6</th>\n",
       "      <td>Prashant Chopra</td>\n",
       "      <td>Allrounder</td>\n",
       "      <td>India</td>\n",
       "      <td>20.0</td>\n",
       "      <td>NaN</td>\n",
       "      <td>NaN</td>\n",
       "      <td>UNSOLD</td>\n",
       "    </tr>\n",
       "    <tr>\n",
       "      <th>10</th>\n",
       "      <td>Luke Wood</td>\n",
       "      <td>Bowler</td>\n",
       "      <td>England</td>\n",
       "      <td>100.0</td>\n",
       "      <td>NaN</td>\n",
       "      <td>NaN</td>\n",
       "      <td>UNSOLD</td>\n",
       "    </tr>\n",
       "    <tr>\n",
       "      <th>11</th>\n",
       "      <td>Dilshan Madushanka</td>\n",
       "      <td>Bowler</td>\n",
       "      <td>Sri Lanka</td>\n",
       "      <td>50.0</td>\n",
       "      <td>NaN</td>\n",
       "      <td>NaN</td>\n",
       "      <td>UNSOLD</td>\n",
       "    </tr>\n",
       "    <tr>\n",
       "      <th>...</th>\n",
       "      <td>...</td>\n",
       "      <td>...</td>\n",
       "      <td>...</td>\n",
       "      <td>...</td>\n",
       "      <td>...</td>\n",
       "      <td>...</td>\n",
       "      <td>...</td>\n",
       "    </tr>\n",
       "    <tr>\n",
       "      <th>137</th>\n",
       "      <td>Mujeeb Ur Rahman</td>\n",
       "      <td>Bowler</td>\n",
       "      <td>Afghanistan</td>\n",
       "      <td>100.0</td>\n",
       "      <td>NaN</td>\n",
       "      <td>NaN</td>\n",
       "      <td>UNSOLD</td>\n",
       "    </tr>\n",
       "    <tr>\n",
       "      <th>138</th>\n",
       "      <td>Tabraiz Shamsi</td>\n",
       "      <td>Bowler</td>\n",
       "      <td>South Africa</td>\n",
       "      <td>100.0</td>\n",
       "      <td>NaN</td>\n",
       "      <td>NaN</td>\n",
       "      <td>UNSOLD</td>\n",
       "    </tr>\n",
       "    <tr>\n",
       "      <th>141</th>\n",
       "      <td>Adam Milne</td>\n",
       "      <td>Bowler</td>\n",
       "      <td>New Zealand</td>\n",
       "      <td>200.0</td>\n",
       "      <td>NaN</td>\n",
       "      <td>NaN</td>\n",
       "      <td>UNSOLD</td>\n",
       "    </tr>\n",
       "    <tr>\n",
       "      <th>143</th>\n",
       "      <td>Chris Jordan</td>\n",
       "      <td>Bowler</td>\n",
       "      <td>England</td>\n",
       "      <td>200.0</td>\n",
       "      <td>NaN</td>\n",
       "      <td>NaN</td>\n",
       "      <td>UNSOLD</td>\n",
       "    </tr>\n",
       "    <tr>\n",
       "      <th>145</th>\n",
       "      <td>Tom Banton</td>\n",
       "      <td>WK-Batter</td>\n",
       "      <td>England</td>\n",
       "      <td>200.0</td>\n",
       "      <td>NaN</td>\n",
       "      <td>NaN</td>\n",
       "      <td>UNSOLD</td>\n",
       "    </tr>\n",
       "  </tbody>\n",
       "</table>\n",
       "<p>71 rows × 7 columns</p>\n",
       "</div>"
      ],
      "text/plain": [
       "                   name player_style   nationality  base_price  final_price  \\\n",
       "1             Ekant Sen       Batter         India        20.0          NaN   \n",
       "2         Wayne Parnell   Allrounder  South Africa        75.0          NaN   \n",
       "6       Prashant Chopra   Allrounder         India        20.0          NaN   \n",
       "10            Luke Wood       Bowler       England       100.0          NaN   \n",
       "11   Dilshan Madushanka       Bowler     Sri Lanka        50.0          NaN   \n",
       "..                  ...          ...           ...         ...          ...   \n",
       "137    Mujeeb Ur Rahman       Bowler   Afghanistan       100.0          NaN   \n",
       "138      Tabraiz Shamsi       Bowler  South Africa       100.0          NaN   \n",
       "141          Adam Milne       Bowler   New Zealand       200.0          NaN   \n",
       "143        Chris Jordan       Bowler       England       200.0          NaN   \n",
       "145          Tom Banton    WK-Batter       England       200.0          NaN   \n",
       "\n",
       "    franchise  status  \n",
       "1         NaN  UNSOLD  \n",
       "2         NaN  UNSOLD  \n",
       "6         NaN  UNSOLD  \n",
       "10        NaN  UNSOLD  \n",
       "11        NaN  UNSOLD  \n",
       "..        ...     ...  \n",
       "137       NaN  UNSOLD  \n",
       "138       NaN  UNSOLD  \n",
       "141       NaN  UNSOLD  \n",
       "143       NaN  UNSOLD  \n",
       "145       NaN  UNSOLD  \n",
       "\n",
       "[71 rows x 7 columns]"
      ]
     },
     "execution_count": 9,
     "metadata": {},
     "output_type": "execute_result"
    }
   ],
   "source": [
    "df[df['franchise'].isnull()]"
   ]
  },
  {
   "cell_type": "code",
   "execution_count": 10,
   "id": "25e831c6",
   "metadata": {
    "execution": {
     "iopub.execute_input": "2024-03-12T12:35:21.293994Z",
     "iopub.status.busy": "2024-03-12T12:35:21.293582Z",
     "iopub.status.idle": "2024-03-12T12:35:21.303481Z",
     "shell.execute_reply": "2024-03-12T12:35:21.302164Z"
    },
    "papermill": {
     "duration": 0.030464,
     "end_time": "2024-03-12T12:35:21.306428",
     "exception": false,
     "start_time": "2024-03-12T12:35:21.275964",
     "status": "completed"
    },
    "tags": []
   },
   "outputs": [
    {
     "data": {
      "text/plain": [
       "status\n",
       "UNSOLD    71\n",
       "Name: count, dtype: int64"
      ]
     },
     "execution_count": 10,
     "metadata": {},
     "output_type": "execute_result"
    }
   ],
   "source": [
    "# checking all null values in franchise and final_price\n",
    "df['status'][(df['final_price'].isnull()) & (df['franchise'].isnull())].value_counts()"
   ]
  },
  {
   "cell_type": "markdown",
   "id": "f04b2661",
   "metadata": {
    "papermill": {
     "duration": 0.016017,
     "end_time": "2024-03-12T12:35:21.338957",
     "exception": false,
     "start_time": "2024-03-12T12:35:21.322940",
     "status": "completed"
    },
    "tags": []
   },
   "source": [
    "1. As it's obvious If players are unsold means no franchise picked them in the team and their will be no final price.\n",
    "2. So we can remove those players which are unsold"
   ]
  },
  {
   "cell_type": "code",
   "execution_count": 11,
   "id": "44f4238d",
   "metadata": {
    "execution": {
     "iopub.execute_input": "2024-03-12T12:35:21.374956Z",
     "iopub.status.busy": "2024-03-12T12:35:21.374178Z",
     "iopub.status.idle": "2024-03-12T12:35:21.385601Z",
     "shell.execute_reply": "2024-03-12T12:35:21.384638Z"
    },
    "papermill": {
     "duration": 0.031753,
     "end_time": "2024-03-12T12:35:21.388207",
     "exception": false,
     "start_time": "2024-03-12T12:35:21.356454",
     "status": "completed"
    },
    "tags": []
   },
   "outputs": [],
   "source": [
    "# Handling missing values in final price and franchise columns\n",
    "\n",
    "unsold_players = df[df['franchise'].isnull()]\n",
    "unsold_players_status = df['status'][(df['final_price'].isnull()) & (df['final_price'].isnull())].value_counts()\n",
    "\n",
    "# Dropping unsold players\n",
    "df.dropna(subset=['final_price', 'franchise'], inplace=True)\n"
   ]
  },
  {
   "cell_type": "code",
   "execution_count": 12,
   "id": "117a0194",
   "metadata": {
    "execution": {
     "iopub.execute_input": "2024-03-12T12:35:21.422445Z",
     "iopub.status.busy": "2024-03-12T12:35:21.422022Z",
     "iopub.status.idle": "2024-03-12T12:35:21.431127Z",
     "shell.execute_reply": "2024-03-12T12:35:21.429840Z"
    },
    "papermill": {
     "duration": 0.029166,
     "end_time": "2024-03-12T12:35:21.433707",
     "exception": false,
     "start_time": "2024-03-12T12:35:21.404541",
     "status": "completed"
    },
    "tags": []
   },
   "outputs": [
    {
     "data": {
      "text/plain": [
       "name              0\n",
       "player_style      0\n",
       "nationality       0\n",
       "base_price      158\n",
       "final_price       0\n",
       "franchise         0\n",
       "status            0\n",
       "dtype: int64"
      ]
     },
     "execution_count": 12,
     "metadata": {},
     "output_type": "execute_result"
    }
   ],
   "source": [
    "df.isnull().sum()"
   ]
  },
  {
   "cell_type": "code",
   "execution_count": 13,
   "id": "7e3b238e",
   "metadata": {
    "execution": {
     "iopub.execute_input": "2024-03-12T12:35:21.469139Z",
     "iopub.status.busy": "2024-03-12T12:35:21.468732Z",
     "iopub.status.idle": "2024-03-12T12:35:22.010456Z",
     "shell.execute_reply": "2024-03-12T12:35:22.008757Z"
    },
    "papermill": {
     "duration": 0.562788,
     "end_time": "2024-03-12T12:35:22.013520",
     "exception": false,
     "start_time": "2024-03-12T12:35:21.450732",
     "status": "completed"
    },
    "tags": []
   },
   "outputs": [
    {
     "data": {
      "text/plain": [
       "<Axes: xlabel='player_style', ylabel='count'>"
      ]
     },
     "execution_count": 13,
     "metadata": {},
     "output_type": "execute_result"
    },
    {
     "data": {
      "image/png": "[encoded data removed]",
      "text/plain": [
       "<Figure size 1000x500 with 1 Axes>"
      ]
     },
     "metadata": {},
     "output_type": "display_data"
    }
   ],
   "source": [
    "# Handle missing values of base_price\n",
    "\n",
    "# Visualizing the distribution of player styles by base price\n",
    "plt.figure(figsize=(10,5))\n",
    "sns.countplot(data=df, x=df.player_style, hue=df['base_price'])\n"
   ]
  },
  {
   "cell_type": "markdown",
   "id": "d873c7d7",
   "metadata": {
    "papermill": {
     "duration": 0.017551,
     "end_time": "2024-03-12T12:35:22.048868",
     "exception": false,
     "start_time": "2024-03-12T12:35:22.031317",
     "status": "completed"
    },
    "tags": []
   },
   "source": [
    "- As we can see the most 20 lacs base price are all rounders"
   ]
  },
  {
   "cell_type": "code",
   "execution_count": 14,
   "id": "6b1a21c0",
   "metadata": {
    "execution": {
     "iopub.execute_input": "2024-03-12T12:35:22.087341Z",
     "iopub.status.busy": "2024-03-12T12:35:22.086679Z",
     "iopub.status.idle": "2024-03-12T12:35:22.397152Z",
     "shell.execute_reply": "2024-03-12T12:35:22.395951Z"
    },
    "papermill": {
     "duration": 0.332161,
     "end_time": "2024-03-12T12:35:22.399775",
     "exception": false,
     "start_time": "2024-03-12T12:35:22.067614",
     "status": "completed"
    },
    "tags": []
   },
   "outputs": [
    {
     "name": "stdout",
     "output_type": "stream",
     "text": [
      "Base Salary of all rounders counts:\n",
      " base_price\n",
      "20.0     20\n",
      "200.0     4\n",
      "50.0      3\n",
      "150.0     2\n",
      "100.0     2\n",
      "75.0      1\n",
      "Name: count, dtype: int64\n"
     ]
    },
    {
     "data": {
      "text/plain": [
       "<Axes: xlabel='base_price'>"
      ]
     },
     "execution_count": 14,
     "metadata": {},
     "output_type": "execute_result"
    },
    {
     "data": {
      "image/png": "[encoded data removed]",
      "text/plain": [
       "<Figure size 640x480 with 1 Axes>"
      ]
     },
     "metadata": {},
     "output_type": "display_data"
    }
   ],
   "source": [
    "# Analyzing base salary of all-rounders\n",
    "print('Base Salary of all rounders counts:\\n', df['base_price'][df['player_style']=='Allrounder'].value_counts())\n",
    "df['base_price'][df['player_style']=='Allrounder'].value_counts().plot(kind='bar')\n"
   ]
  },
  {
   "cell_type": "code",
   "execution_count": 15,
   "id": "2bd2e645",
   "metadata": {
    "execution": {
     "iopub.execute_input": "2024-03-12T12:35:22.438551Z",
     "iopub.status.busy": "2024-03-12T12:35:22.437414Z",
     "iopub.status.idle": "2024-03-12T12:35:22.448486Z",
     "shell.execute_reply": "2024-03-12T12:35:22.447067Z"
    },
    "papermill": {
     "duration": 0.033615,
     "end_time": "2024-03-12T12:35:22.451325",
     "exception": false,
     "start_time": "2024-03-12T12:35:22.417710",
     "status": "completed"
    },
    "tags": []
   },
   "outputs": [
    {
     "data": {
      "text/plain": [
       "player_style\n",
       "Bowler        87\n",
       "Allrounder    77\n",
       "Batter        44\n",
       "WK-Batter     30\n",
       "Name: count, dtype: int64"
      ]
     },
     "execution_count": 15,
     "metadata": {},
     "output_type": "execute_result"
    }
   ],
   "source": [
    "# Exploring player styles frequency\n",
    "df.player_style.value_counts()"
   ]
  },
  {
   "cell_type": "code",
   "execution_count": 16,
   "id": "9c8a0b1b",
   "metadata": {
    "execution": {
     "iopub.execute_input": "2024-03-12T12:35:22.491558Z",
     "iopub.status.busy": "2024-03-12T12:35:22.490428Z",
     "iopub.status.idle": "2024-03-12T12:35:22.500599Z",
     "shell.execute_reply": "2024-03-12T12:35:22.499436Z"
    },
    "papermill": {
     "duration": 0.033146,
     "end_time": "2024-03-12T12:35:22.503497",
     "exception": false,
     "start_time": "2024-03-12T12:35:22.470351",
     "status": "completed"
    },
    "tags": []
   },
   "outputs": [
    {
     "data": {
      "text/plain": [
       "player_style\n",
       "Allrounder    45\n",
       "Name: count, dtype: int64"
      ]
     },
     "execution_count": 16,
     "metadata": {},
     "output_type": "execute_result"
    }
   ],
   "source": [
    "# Investigating missing base prices for all-rounders\n",
    "df['player_style'][(df['player_style']=='Allrounder') & (df['base_price'].isnull())].value_counts()"
   ]
  },
  {
   "cell_type": "markdown",
   "id": "4a08ebb8",
   "metadata": {
    "papermill": {
     "duration": 0.018816,
     "end_time": "2024-03-12T12:35:22.541542",
     "exception": false,
     "start_time": "2024-03-12T12:35:22.522726",
     "status": "completed"
    },
    "tags": []
   },
   "source": [
    "- Out of 77 all rounder players 45 of which have missing base price, as we know most allrounders have 20 lacs base salary so let's fill with 20."
   ]
  },
  {
   "cell_type": "code",
   "execution_count": 17,
   "id": "cc3a1ee0",
   "metadata": {
    "execution": {
     "iopub.execute_input": "2024-03-12T12:35:22.646873Z",
     "iopub.status.busy": "2024-03-12T12:35:22.646464Z",
     "iopub.status.idle": "2024-03-12T12:35:22.656296Z",
     "shell.execute_reply": "2024-03-12T12:35:22.655093Z"
    },
    "papermill": {
     "duration": 0.033964,
     "end_time": "2024-03-12T12:35:22.659010",
     "exception": false,
     "start_time": "2024-03-12T12:35:22.625046",
     "status": "completed"
    },
    "tags": []
   },
   "outputs": [
    {
     "name": "stderr",
     "output_type": "stream",
     "text": [
      "/tmp/ipykernel_19/424758010.py:2: FutureWarning: ChainedAssignmentError: behaviour will change in pandas 3.0!\n",
      "You are setting values through chained assignment. Currently this works in certain cases, but when using Copy-on-Write (which will become the default behaviour in pandas 3.0) this will never work to update the original DataFrame or Series, because the intermediate object on which we are setting values will behave as a copy.\n",
      "A typical example is when you are setting values in a column of a DataFrame, like:\n",
      "\n",
      "df[\"col\"][row_indexer] = value\n",
      "\n",
      "Use `df.loc[row_indexer, \"col\"] = values` instead, to perform the assignment in a single step and ensure this keeps updating the original `df`.\n",
      "\n",
      "See the caveats in the documentation: https://pandas.pydata.org/pandas-docs/stable/user_guide/indexing.html#returning-a-view-versus-a-copy\n",
      "\n",
      "  df['base_price'][(df['player_style']=='Allrounder') & (df['base_price'].isnull())] = 20\n",
      "/tmp/ipykernel_19/424758010.py:2: SettingWithCopyWarning: \n",
      "A value is trying to be set on a copy of a slice from a DataFrame\n",
      "\n",
      "See the caveats in the documentation: https://pandas.pydata.org/pandas-docs/stable/user_guide/indexing.html#returning-a-view-versus-a-copy\n",
      "  df['base_price'][(df['player_style']=='Allrounder') & (df['base_price'].isnull())] = 20\n"
     ]
    }
   ],
   "source": [
    "# Imputing missing base prices for all-rounders\n",
    "df['base_price'][(df['player_style']=='Allrounder') & (df['base_price'].isnull())] = 20"
   ]
  },
  {
   "cell_type": "code",
   "execution_count": 18,
   "id": "f829b65f",
   "metadata": {
    "execution": {
     "iopub.execute_input": "2024-03-12T12:35:22.700028Z",
     "iopub.status.busy": "2024-03-12T12:35:22.699376Z",
     "iopub.status.idle": "2024-03-12T12:35:22.727203Z",
     "shell.execute_reply": "2024-03-12T12:35:22.725495Z"
    },
    "papermill": {
     "duration": 0.053361,
     "end_time": "2024-03-12T12:35:22.731882",
     "exception": false,
     "start_time": "2024-03-12T12:35:22.678521",
     "status": "completed"
    },
    "tags": []
   },
   "outputs": [],
   "source": [
    "# Imputing the rest of missing values using KNN imputation \n",
    "temp = df.drop(['name'], axis=1)\n",
    "temp = pd.get_dummies(temp, drop_first=True)\n",
    "\n",
    "imp = KNNImputer(n_neighbors=2)\n",
    "imputed_values = imp.fit_transform(temp).astype(int)\n",
    "\n",
    "df['base_price'] = imputed_values[:, 0]"
   ]
  },
  {
   "cell_type": "code",
   "execution_count": 19,
   "id": "0ba23e2d",
   "metadata": {
    "execution": {
     "iopub.execute_input": "2024-03-12T12:35:22.816657Z",
     "iopub.status.busy": "2024-03-12T12:35:22.815959Z",
     "iopub.status.idle": "2024-03-12T12:35:22.829333Z",
     "shell.execute_reply": "2024-03-12T12:35:22.828186Z"
    },
    "papermill": {
     "duration": 0.059694,
     "end_time": "2024-03-12T12:35:22.833628",
     "exception": false,
     "start_time": "2024-03-12T12:35:22.773934",
     "status": "completed"
    },
    "tags": []
   },
   "outputs": [
    {
     "data": {
      "text/plain": [
       "name            0\n",
       "player_style    0\n",
       "nationality     0\n",
       "base_price      0\n",
       "final_price     0\n",
       "franchise       0\n",
       "status          0\n",
       "dtype: int64"
      ]
     },
     "execution_count": 19,
     "metadata": {},
     "output_type": "execute_result"
    }
   ],
   "source": [
    "# data cleaned\n",
    "df.isnull().sum()"
   ]
  },
  {
   "cell_type": "markdown",
   "id": "bee4dc99",
   "metadata": {
    "papermill": {
     "duration": 0.019448,
     "end_time": "2024-03-12T12:35:22.874663",
     "exception": false,
     "start_time": "2024-03-12T12:35:22.855215",
     "status": "completed"
    },
    "tags": []
   },
   "source": [
    "### Analysis: Which franchise spent the most on players?"
   ]
  },
  {
   "cell_type": "code",
   "execution_count": 20,
   "id": "4f7f3da5",
   "metadata": {
    "execution": {
     "iopub.execute_input": "2024-03-12T12:35:22.915317Z",
     "iopub.status.busy": "2024-03-12T12:35:22.914882Z",
     "iopub.status.idle": "2024-03-12T12:35:23.279715Z",
     "shell.execute_reply": "2024-03-12T12:35:23.278477Z"
    },
    "papermill": {
     "duration": 0.387762,
     "end_time": "2024-03-12T12:35:23.282366",
     "exception": false,
     "start_time": "2024-03-12T12:35:22.894604",
     "status": "completed"
    },
    "tags": []
   },
   "outputs": [
    {
     "data": {
      "image/png": "[encoded data removed]",
      "text/plain": [
       "<Figure size 1000x500 with 1 Axes>"
      ]
     },
     "metadata": {},
     "output_type": "display_data"
    }
   ],
   "source": [
    "franchise_spending = df.groupby('franchise')['final_price'].mean().sort_values(ascending=False)\n",
    "\n",
    "plt.figure(figsize=(10, 5))\n",
    "franchise_spending.plot(kind='bar')\n",
    "plt.xlabel('Franchise')\n",
    "plt.ylabel('Average Final Price')\n",
    "plt.title('Average Final Price by Franchise')\n",
    "plt.show()"
   ]
  },
  {
   "cell_type": "code",
   "execution_count": 21,
   "id": "799bcab8",
   "metadata": {
    "execution": {
     "iopub.execute_input": "2024-03-12T12:35:23.326333Z",
     "iopub.status.busy": "2024-03-12T12:35:23.324470Z",
     "iopub.status.idle": "2024-03-12T12:35:23.713280Z",
     "shell.execute_reply": "2024-03-12T12:35:23.711958Z"
    },
    "papermill": {
     "duration": 0.414271,
     "end_time": "2024-03-12T12:35:23.716291",
     "exception": false,
     "start_time": "2024-03-12T12:35:23.302020",
     "status": "completed"
    },
    "tags": []
   },
   "outputs": [
    {
     "data": {
      "image/png": "[encoded data removed]",
      "text/plain": [
       "<Figure size 1000x500 with 1 Axes>"
      ]
     },
     "metadata": {},
     "output_type": "display_data"
    }
   ],
   "source": [
    "franchise_spending = df.groupby('franchise')['final_price'].max().sort_values(ascending=False)\n",
    "\n",
    "plt.figure(figsize=(10, 5))\n",
    "franchise_spending.plot(kind='bar')\n",
    "plt.xlabel('Franchise')\n",
    "plt.ylabel('Maximum Final Price')\n",
    "plt.title('Maximum spent on a player by Franchise')\n",
    "plt.show()"
   ]
  },
  {
   "cell_type": "markdown",
   "id": "24cf2c6b",
   "metadata": {
    "papermill": {
     "duration": 0.02033,
     "end_time": "2024-03-12T12:35:23.757003",
     "exception": false,
     "start_time": "2024-03-12T12:35:23.736673",
     "status": "completed"
    },
    "tags": []
   },
   "source": [
    "**Insights:**\n",
    "- MI franchise spent the most on players on average of 409 lacs\n",
    "- PBKS bought the most expensive player"
   ]
  },
  {
   "cell_type": "markdown",
   "id": "20a6942f",
   "metadata": {
    "papermill": {
     "duration": 0.02513,
     "end_time": "2024-03-12T12:35:23.803634",
     "exception": false,
     "start_time": "2024-03-12T12:35:23.778504",
     "status": "completed"
    },
    "tags": []
   },
   "source": [
    "### Analysis: Player styles cost"
   ]
  },
  {
   "cell_type": "code",
   "execution_count": 22,
   "id": "40a673eb",
   "metadata": {
    "execution": {
     "iopub.execute_input": "2024-03-12T12:35:23.855224Z",
     "iopub.status.busy": "2024-03-12T12:35:23.854782Z",
     "iopub.status.idle": "2024-03-12T12:35:24.117121Z",
     "shell.execute_reply": "2024-03-12T12:35:24.115933Z"
    },
    "papermill": {
     "duration": 0.289889,
     "end_time": "2024-03-12T12:35:24.120377",
     "exception": false,
     "start_time": "2024-03-12T12:35:23.830488",
     "status": "completed"
    },
    "tags": []
   },
   "outputs": [
    {
     "data": {
      "image/png": "[encoded data removed]",
      "text/plain": [
       "<Figure size 800x500 with 1 Axes>"
      ]
     },
     "metadata": {},
     "output_type": "display_data"
    }
   ],
   "source": [
    "#Distribution of Player Styles\n",
    "plt.figure(figsize=(8, 5))\n",
    "sns.countplot(data=df, x='player_style')\n",
    "plt.xlabel('Player Style')\n",
    "plt.ylabel('Count')\n",
    "plt.title('Distribution of Player Styles')\n",
    "plt.show()\n"
   ]
  },
  {
   "cell_type": "code",
   "execution_count": 23,
   "id": "133122b4",
   "metadata": {
    "execution": {
     "iopub.execute_input": "2024-03-12T12:35:24.164057Z",
     "iopub.status.busy": "2024-03-12T12:35:24.162826Z",
     "iopub.status.idle": "2024-03-12T12:35:24.195021Z",
     "shell.execute_reply": "2024-03-12T12:35:24.193710Z"
    },
    "papermill": {
     "duration": 0.056225,
     "end_time": "2024-03-12T12:35:24.197654",
     "exception": false,
     "start_time": "2024-03-12T12:35:24.141429",
     "status": "completed"
    },
    "tags": []
   },
   "outputs": [
    {
     "data": {
      "text/html": [
       "<div>\n",
       "<style scoped>\n",
       "    .dataframe tbody tr th:only-of-type {\n",
       "        vertical-align: middle;\n",
       "    }\n",
       "\n",
       "    .dataframe tbody tr th {\n",
       "        vertical-align: top;\n",
       "    }\n",
       "\n",
       "    .dataframe thead th {\n",
       "        text-align: right;\n",
       "    }\n",
       "</style>\n",
       "<table border=\"1\" class=\"dataframe\">\n",
       "  <thead>\n",
       "    <tr style=\"text-align: right;\">\n",
       "      <th></th>\n",
       "      <th>count</th>\n",
       "      <th>mean</th>\n",
       "      <th>std</th>\n",
       "      <th>min</th>\n",
       "      <th>25%</th>\n",
       "      <th>50%</th>\n",
       "      <th>75%</th>\n",
       "      <th>max</th>\n",
       "    </tr>\n",
       "    <tr>\n",
       "      <th>player_style</th>\n",
       "      <th></th>\n",
       "      <th></th>\n",
       "      <th></th>\n",
       "      <th></th>\n",
       "      <th></th>\n",
       "      <th></th>\n",
       "      <th></th>\n",
       "      <th></th>\n",
       "    </tr>\n",
       "  </thead>\n",
       "  <tbody>\n",
       "    <tr>\n",
       "      <th>Allrounder</th>\n",
       "      <td>77.0</td>\n",
       "      <td>376.298701</td>\n",
       "      <td>485.561532</td>\n",
       "      <td>20.0</td>\n",
       "      <td>20.00</td>\n",
       "      <td>100.0</td>\n",
       "      <td>650.00</td>\n",
       "      <td>1850.0</td>\n",
       "    </tr>\n",
       "    <tr>\n",
       "      <th>Batter</th>\n",
       "      <td>44.0</td>\n",
       "      <td>425.113636</td>\n",
       "      <td>441.586053</td>\n",
       "      <td>20.0</td>\n",
       "      <td>50.00</td>\n",
       "      <td>260.0</td>\n",
       "      <td>781.25</td>\n",
       "      <td>1600.0</td>\n",
       "    </tr>\n",
       "    <tr>\n",
       "      <th>Bowler</th>\n",
       "      <td>87.0</td>\n",
       "      <td>290.344828</td>\n",
       "      <td>350.931313</td>\n",
       "      <td>20.0</td>\n",
       "      <td>30.00</td>\n",
       "      <td>120.0</td>\n",
       "      <td>420.00</td>\n",
       "      <td>1500.0</td>\n",
       "    </tr>\n",
       "    <tr>\n",
       "      <th>WK-Batter</th>\n",
       "      <td>30.0</td>\n",
       "      <td>488.666667</td>\n",
       "      <td>581.006756</td>\n",
       "      <td>20.0</td>\n",
       "      <td>31.25</td>\n",
       "      <td>170.0</td>\n",
       "      <td>675.00</td>\n",
       "      <td>1700.0</td>\n",
       "    </tr>\n",
       "  </tbody>\n",
       "</table>\n",
       "</div>"
      ],
      "text/plain": [
       "              count        mean         std   min    25%    50%     75%  \\\n",
       "player_style                                                              \n",
       "Allrounder     77.0  376.298701  485.561532  20.0  20.00  100.0  650.00   \n",
       "Batter         44.0  425.113636  441.586053  20.0  50.00  260.0  781.25   \n",
       "Bowler         87.0  290.344828  350.931313  20.0  30.00  120.0  420.00   \n",
       "WK-Batter      30.0  488.666667  581.006756  20.0  31.25  170.0  675.00   \n",
       "\n",
       "                 max  \n",
       "player_style          \n",
       "Allrounder    1850.0  \n",
       "Batter        1600.0  \n",
       "Bowler        1500.0  \n",
       "WK-Batter     1700.0  "
      ]
     },
     "execution_count": 23,
     "metadata": {},
     "output_type": "execute_result"
    }
   ],
   "source": [
    "df.groupby(['player_style'])['final_price'].describe()"
   ]
  },
  {
   "cell_type": "code",
   "execution_count": 24,
   "id": "d6dc7978",
   "metadata": {
    "execution": {
     "iopub.execute_input": "2024-03-12T12:35:24.242765Z",
     "iopub.status.busy": "2024-03-12T12:35:24.242384Z",
     "iopub.status.idle": "2024-03-12T12:35:24.708300Z",
     "shell.execute_reply": "2024-03-12T12:35:24.706887Z"
    },
    "papermill": {
     "duration": 0.49247,
     "end_time": "2024-03-12T12:35:24.711059",
     "exception": false,
     "start_time": "2024-03-12T12:35:24.218589",
     "status": "completed"
    },
    "tags": []
   },
   "outputs": [
    {
     "data": {
      "image/png": "[encoded data removed]",
      "text/plain": [
       "<Figure size 800x500 with 1 Axes>"
      ]
     },
     "metadata": {},
     "output_type": "display_data"
    }
   ],
   "source": [
    "player_style_cost = df.groupby('player_style')['final_price'].describe()\n",
    "\n",
    "player_style_cost.plot(kind='bar', figsize=(8,5))\n",
    "plt.xlabel('Player Style')\n",
    "plt.ylabel('Final Price')\n",
    "plt.title('Distribution of Final Price by Player Style')\n",
    "plt.show()"
   ]
  },
  {
   "cell_type": "markdown",
   "id": "7dd7e3dd",
   "metadata": {
    "papermill": {
     "duration": 0.020974,
     "end_time": "2024-03-12T12:35:24.753839",
     "exception": false,
     "start_time": "2024-03-12T12:35:24.732865",
     "status": "completed"
    },
    "tags": []
   },
   "source": [
    "**Insights:**\n",
    "- On average, Wicket_batters are costliest with 489 lacs\n",
    "- 2nd costliest are batters with 425 lacs on average, and 25% batters are above 781 lacs\n",
    "- The least costly were bowlers with 290 lacs on average\n",
    "- The most expensive player was an allrounder (bought by PBKS)"
   ]
  },
  {
   "cell_type": "code",
   "execution_count": 25,
   "id": "e5887256",
   "metadata": {
    "execution": {
     "iopub.execute_input": "2024-03-12T12:35:24.797669Z",
     "iopub.status.busy": "2024-03-12T12:35:24.797291Z",
     "iopub.status.idle": "2024-03-12T12:35:24.814560Z",
     "shell.execute_reply": "2024-03-12T12:35:24.813373Z"
    },
    "papermill": {
     "duration": 0.042351,
     "end_time": "2024-03-12T12:35:24.817167",
     "exception": false,
     "start_time": "2024-03-12T12:35:24.774816",
     "status": "completed"
    },
    "tags": []
   },
   "outputs": [
    {
     "data": {
      "text/html": [
       "<div>\n",
       "<style scoped>\n",
       "    .dataframe tbody tr th:only-of-type {\n",
       "        vertical-align: middle;\n",
       "    }\n",
       "\n",
       "    .dataframe tbody tr th {\n",
       "        vertical-align: top;\n",
       "    }\n",
       "\n",
       "    .dataframe thead th {\n",
       "        text-align: right;\n",
       "    }\n",
       "</style>\n",
       "<table border=\"1\" class=\"dataframe\">\n",
       "  <thead>\n",
       "    <tr style=\"text-align: right;\">\n",
       "      <th></th>\n",
       "      <th>name</th>\n",
       "      <th>player_style</th>\n",
       "      <th>nationality</th>\n",
       "      <th>base_price</th>\n",
       "      <th>final_price</th>\n",
       "      <th>franchise</th>\n",
       "      <th>status</th>\n",
       "    </tr>\n",
       "  </thead>\n",
       "  <tbody>\n",
       "    <tr>\n",
       "      <th>150</th>\n",
       "      <td>Sam Curran</td>\n",
       "      <td>Allrounder</td>\n",
       "      <td>England</td>\n",
       "      <td>200</td>\n",
       "      <td>1850.0</td>\n",
       "      <td>PBKS</td>\n",
       "      <td>SOLD</td>\n",
       "    </tr>\n",
       "  </tbody>\n",
       "</table>\n",
       "</div>"
      ],
      "text/plain": [
       "           name player_style nationality  base_price  final_price franchise  \\\n",
       "150  Sam Curran   Allrounder     England         200       1850.0      PBKS   \n",
       "\n",
       "    status  \n",
       "150   SOLD  "
      ]
     },
     "execution_count": 25,
     "metadata": {},
     "output_type": "execute_result"
    }
   ],
   "source": [
    "# Analysis: Who was costliest allrounder player\n",
    "\n",
    "costliest_allrounder = df[df['final_price'] == df['final_price'].max()]\n",
    "\n",
    "# Outputting information about the costliest allrounder player\n",
    "costliest_allrounder"
   ]
  },
  {
   "cell_type": "markdown",
   "id": "07a16725",
   "metadata": {
    "execution": {
     "iopub.execute_input": "2024-03-12T11:48:03.147137Z",
     "iopub.status.busy": "2024-03-12T11:48:03.146811Z",
     "iopub.status.idle": "2024-03-12T11:48:03.158932Z",
     "shell.execute_reply": "2024-03-12T11:48:03.157900Z",
     "shell.execute_reply.started": "2024-03-12T11:48:03.147112Z"
    },
    "papermill": {
     "duration": 0.020884,
     "end_time": "2024-03-12T12:35:24.859289",
     "exception": false,
     "start_time": "2024-03-12T12:35:24.838405",
     "status": "completed"
    },
    "tags": []
   },
   "source": [
    "**Insight:**\n",
    "- Sam Curran, an Allrounder player from England, starting with a base price of 200 lacs, and final price of 1850 lacs, was sold to PBKS"
   ]
  },
  {
   "cell_type": "markdown",
   "id": "b846595a",
   "metadata": {
    "papermill": {
     "duration": 0.021353,
     "end_time": "2024-03-12T12:35:24.902896",
     "exception": false,
     "start_time": "2024-03-12T12:35:24.881543",
     "status": "completed"
    },
    "tags": []
   },
   "source": [
    "### Analysis: Player styles"
   ]
  },
  {
   "cell_type": "code",
   "execution_count": 26,
   "id": "4df770ed",
   "metadata": {
    "execution": {
     "iopub.execute_input": "2024-03-12T12:35:24.948629Z",
     "iopub.status.busy": "2024-03-12T12:35:24.948252Z",
     "iopub.status.idle": "2024-03-12T12:35:25.472440Z",
     "shell.execute_reply": "2024-03-12T12:35:25.471242Z"
    },
    "papermill": {
     "duration": 0.550095,
     "end_time": "2024-03-12T12:35:25.475010",
     "exception": false,
     "start_time": "2024-03-12T12:35:24.924915",
     "status": "completed"
    },
    "tags": []
   },
   "outputs": [
    {
     "data": {
      "image/png": "[encoded data removed]",
      "text/plain": [
       "<Figure size 1200x700 with 1 Axes>"
      ]
     },
     "metadata": {},
     "output_type": "display_data"
    }
   ],
   "source": [
    "#Player styles in each franchise\n",
    "\n",
    "plt.figure(figsize=(12, 7))\n",
    "sns.countplot(data=df, x='franchise', hue='player_style')\n",
    "plt.xlabel('Franchise')\n",
    "plt.ylabel('Count')\n",
    "plt.title('Player Styles in Each Franchise')\n",
    "plt.show()"
   ]
  },
  {
   "cell_type": "markdown",
   "id": "42ac58b6",
   "metadata": {
    "execution": {
     "iopub.execute_input": "2024-03-12T11:55:00.199036Z",
     "iopub.status.busy": "2024-03-12T11:55:00.198717Z",
     "iopub.status.idle": "2024-03-12T11:55:00.202834Z",
     "shell.execute_reply": "2024-03-12T11:55:00.201811Z",
     "shell.execute_reply.started": "2024-03-12T11:55:00.199013Z"
    },
    "papermill": {
     "duration": 0.023106,
     "end_time": "2024-03-12T12:35:25.520803",
     "exception": false,
     "start_time": "2024-03-12T12:35:25.497697",
     "status": "completed"
    },
    "tags": []
   },
   "source": [
    "**Insights:**\n",
    "- Most Bowlers are in RR and GT\n",
    "- Most allrounders in LSG\n",
    "- Most batters in DC\n",
    "- Most Wicket-batters in RR"
   ]
  },
  {
   "cell_type": "code",
   "execution_count": 27,
   "id": "e223311f",
   "metadata": {
    "execution": {
     "iopub.execute_input": "2024-03-12T12:35:25.569193Z",
     "iopub.status.busy": "2024-03-12T12:35:25.567902Z",
     "iopub.status.idle": "2024-03-12T12:35:25.583585Z",
     "shell.execute_reply": "2024-03-12T12:35:25.582439Z"
    },
    "papermill": {
     "duration": 0.041809,
     "end_time": "2024-03-12T12:35:25.586279",
     "exception": false,
     "start_time": "2024-03-12T12:35:25.544470",
     "status": "completed"
    },
    "tags": []
   },
   "outputs": [
    {
     "data": {
      "text/plain": [
       "nationality   player_style\n",
       "India         Bowler          63\n",
       "              Allrounder      50\n",
       "              Batter          30\n",
       "              WK-Batter       19\n",
       "England       Allrounder       6\n",
       "Australia     Allrounder       5\n",
       "South Africa  Batter           5\n",
       "West Indies   Allrounder       5\n",
       "England       Bowler           4\n",
       "South Africa  WK-Batter        4\n",
       "West Indies   Bowler           4\n",
       "Australia     Bowler           4\n",
       "England       Batter           3\n",
       "South Africa  Allrounder       3\n",
       "              Bowler           3\n",
       "Afghanistan   Bowler           3\n",
       "England       WK-Batter        2\n",
       "West Indies   Batter           2\n",
       "Sri Lanka     Bowler           2\n",
       "New Zealand   Allrounder       2\n",
       "              Batter           2\n",
       "              Bowler           2\n",
       "              WK-Batter        2\n",
       "Sri Lanka     Batter           1\n",
       "West Indies   WK-Batter        1\n",
       "Sri Lanka     Allrounder       1\n",
       "Namibia       Allrounder       1\n",
       "Singapore     Allrounder       1\n",
       "Afghanistan   Allrounder       1\n",
       "Ireland       Bowler           1\n",
       "Bangladesh    WK-Batter        1\n",
       "              Bowler           1\n",
       "              Allrounder       1\n",
       "Australia     WK-Batter        1\n",
       "              Batter           1\n",
       "Zimbabwe      Allrounder       1\n",
       "Name: count, dtype: int64"
      ]
     },
     "execution_count": 27,
     "metadata": {},
     "output_type": "execute_result"
    }
   ],
   "source": [
    "# Player Styles and Nationality\n",
    "player_styles_nationality = df.groupby('nationality')['player_style'].value_counts().sort_values(ascending=False)\n",
    "\n",
    "# Outputting information about player styles and nationality\n",
    "player_styles_nationality"
   ]
  },
  {
   "cell_type": "markdown",
   "id": "e8327b2f",
   "metadata": {
    "execution": {
     "iopub.execute_input": "2024-03-12T11:56:35.167542Z",
     "iopub.status.busy": "2024-03-12T11:56:35.167223Z",
     "iopub.status.idle": "2024-03-12T11:56:35.171984Z",
     "shell.execute_reply": "2024-03-12T11:56:35.170924Z",
     "shell.execute_reply.started": "2024-03-12T11:56:35.167519Z"
    },
    "papermill": {
     "duration": 0.023628,
     "end_time": "2024-03-12T12:35:25.634168",
     "exception": false,
     "start_time": "2024-03-12T12:35:25.610540",
     "status": "completed"
    },
    "tags": []
   },
   "source": [
    "**Insights:**\n",
    "- Most foreign all-rounders and bowlers are from England\n",
    "- Most foreign batters and wicket keepers are from South Africa"
   ]
  },
  {
   "cell_type": "code",
   "execution_count": 28,
   "id": "86463842",
   "metadata": {
    "execution": {
     "iopub.execute_input": "2024-03-12T12:35:25.680740Z",
     "iopub.status.busy": "2024-03-12T12:35:25.680370Z",
     "iopub.status.idle": "2024-03-12T12:35:26.359616Z",
     "shell.execute_reply": "2024-03-12T12:35:26.358255Z"
    },
    "papermill": {
     "duration": 0.705302,
     "end_time": "2024-03-12T12:35:26.362075",
     "exception": false,
     "start_time": "2024-03-12T12:35:25.656773",
     "status": "completed"
    },
    "tags": []
   },
   "outputs": [
    {
     "data": {
      "image/png": "[encoded data removed]",
      "text/plain": [
       "<Figure size 1500x500 with 1 Axes>"
      ]
     },
     "metadata": {},
     "output_type": "display_data"
    }
   ],
   "source": [
    "# Costly nationalities\n",
    "nationality_cost = df.groupby('nationality')['final_price'].mean().sort_values(ascending=False)\n",
    "\n",
    "plt.figure(figsize=(15, 5))\n",
    "sns.barplot(data=df, x='nationality', y='final_price')\n",
    "plt.xlabel('Nationality')\n",
    "plt.ylabel('Average Final Price')\n",
    "plt.title('Average Final Price by Nationality')\n",
    "plt.show()"
   ]
  },
  {
   "cell_type": "code",
   "execution_count": 29,
   "id": "981a8311",
   "metadata": {
    "execution": {
     "iopub.execute_input": "2024-03-12T12:35:26.413030Z",
     "iopub.status.busy": "2024-03-12T12:35:26.412595Z",
     "iopub.status.idle": "2024-03-12T12:35:26.429268Z",
     "shell.execute_reply": "2024-03-12T12:35:26.428010Z"
    },
    "papermill": {
     "duration": 0.044711,
     "end_time": "2024-03-12T12:35:26.432128",
     "exception": false,
     "start_time": "2024-03-12T12:35:26.387417",
     "status": "completed"
    },
    "tags": []
   },
   "outputs": [
    {
     "data": {
      "text/html": [
       "<div>\n",
       "<style scoped>\n",
       "    .dataframe tbody tr th:only-of-type {\n",
       "        vertical-align: middle;\n",
       "    }\n",
       "\n",
       "    .dataframe tbody tr th {\n",
       "        vertical-align: top;\n",
       "    }\n",
       "\n",
       "    .dataframe thead th {\n",
       "        text-align: right;\n",
       "    }\n",
       "</style>\n",
       "<table border=\"1\" class=\"dataframe\">\n",
       "  <thead>\n",
       "    <tr style=\"text-align: right;\">\n",
       "      <th></th>\n",
       "      <th>name</th>\n",
       "      <th>player_style</th>\n",
       "      <th>nationality</th>\n",
       "      <th>base_price</th>\n",
       "      <th>final_price</th>\n",
       "      <th>franchise</th>\n",
       "      <th>status</th>\n",
       "    </tr>\n",
       "  </thead>\n",
       "  <tbody>\n",
       "    <tr>\n",
       "      <th>167</th>\n",
       "      <td>Tim David</td>\n",
       "      <td>Allrounder</td>\n",
       "      <td>Singapore</td>\n",
       "      <td>20</td>\n",
       "      <td>825.0</td>\n",
       "      <td>MI</td>\n",
       "      <td>RETAINED</td>\n",
       "    </tr>\n",
       "  </tbody>\n",
       "</table>\n",
       "</div>"
      ],
      "text/plain": [
       "          name player_style nationality  base_price  final_price franchise  \\\n",
       "167  Tim David   Allrounder   Singapore          20        825.0        MI   \n",
       "\n",
       "       status  \n",
       "167  RETAINED  "
      ]
     },
     "execution_count": 29,
     "metadata": {},
     "output_type": "execute_result"
    }
   ],
   "source": [
    "# Correction in nationality data\n",
    "\n",
    "df[df['nationality']=='Singapore']"
   ]
  },
  {
   "cell_type": "markdown",
   "id": "4b7df733",
   "metadata": {
    "papermill": {
     "duration": 0.022589,
     "end_time": "2024-03-12T12:35:26.478744",
     "exception": false,
     "start_time": "2024-03-12T12:35:26.456155",
     "status": "completed"
    },
    "tags": []
   },
   "source": [
    "- Tim David is Australian cricketer although he played for singapore between 2019 and 2020, so let's change Tim David nationality to Australia"
   ]
  },
  {
   "cell_type": "code",
   "execution_count": 30,
   "id": "ba813b64",
   "metadata": {
    "execution": {
     "iopub.execute_input": "2024-03-12T12:35:26.531726Z",
     "iopub.status.busy": "2024-03-12T12:35:26.530861Z",
     "iopub.status.idle": "2024-03-12T12:35:26.930704Z",
     "shell.execute_reply": "2024-03-12T12:35:26.928213Z"
    },
    "papermill": {
     "duration": 0.431208,
     "end_time": "2024-03-12T12:35:26.933749",
     "exception": false,
     "start_time": "2024-03-12T12:35:26.502541",
     "status": "completed"
    },
    "tags": []
   },
   "outputs": [
    {
     "name": "stderr",
     "output_type": "stream",
     "text": [
      "/tmp/ipykernel_19/3631741051.py:1: FutureWarning: ChainedAssignmentError: behaviour will change in pandas 3.0!\n",
      "You are setting values through chained assignment. Currently this works in certain cases, but when using Copy-on-Write (which will become the default behaviour in pandas 3.0) this will never work to update the original DataFrame or Series, because the intermediate object on which we are setting values will behave as a copy.\n",
      "A typical example is when you are setting values in a column of a DataFrame, like:\n",
      "\n",
      "df[\"col\"][row_indexer] = value\n",
      "\n",
      "Use `df.loc[row_indexer, \"col\"] = values` instead, to perform the assignment in a single step and ensure this keeps updating the original `df`.\n",
      "\n",
      "See the caveats in the documentation: https://pandas.pydata.org/pandas-docs/stable/user_guide/indexing.html#returning-a-view-versus-a-copy\n",
      "\n",
      "  df['nationality'][df['nationality']=='Singapore'] = 'Australia'\n",
      "/tmp/ipykernel_19/3631741051.py:1: SettingWithCopyWarning: \n",
      "A value is trying to be set on a copy of a slice from a DataFrame\n",
      "\n",
      "See the caveats in the documentation: https://pandas.pydata.org/pandas-docs/stable/user_guide/indexing.html#returning-a-view-versus-a-copy\n",
      "  df['nationality'][df['nationality']=='Singapore'] = 'Australia'\n"
     ]
    },
    {
     "data": {
      "image/png": "[encoded data removed]",
      "text/plain": [
       "<Figure size 1500x500 with 1 Axes>"
      ]
     },
     "metadata": {},
     "output_type": "display_data"
    }
   ],
   "source": [
    "df['nationality'][df['nationality']=='Singapore'] = 'Australia'\n",
    "\n",
    "# Rechecking nationality-wise average final price\n",
    "nationality_cost_corrected = df.groupby('nationality')['final_price'].mean().sort_values(ascending=False)\n",
    "\n",
    "plt.figure(figsize=(15, 5))\n",
    "nationality_cost_corrected.plot(kind='bar')\n",
    "plt.xlabel('Nationality')\n",
    "plt.ylabel('Average Final Price')\n",
    "plt.title('Average Final Price by Nationality (Corrected)')\n",
    "plt.show()\n"
   ]
  },
  {
   "cell_type": "markdown",
   "id": "44a2cded",
   "metadata": {
    "papermill": {
     "duration": 0.024127,
     "end_time": "2024-03-12T12:35:26.982288",
     "exception": false,
     "start_time": "2024-03-12T12:35:26.958161",
     "status": "completed"
    },
    "tags": []
   },
   "source": [
    "**Insights:**\n",
    "- Most foreign players were costly\n",
    "- England players were the costliest compared to other nationalities"
   ]
  },
  {
   "cell_type": "code",
   "execution_count": 31,
   "id": "a7acaef2",
   "metadata": {
    "execution": {
     "iopub.execute_input": "2024-03-12T12:35:27.034135Z",
     "iopub.status.busy": "2024-03-12T12:35:27.033712Z",
     "iopub.status.idle": "2024-03-12T12:35:27.605684Z",
     "shell.execute_reply": "2024-03-12T12:35:27.604358Z"
    },
    "papermill": {
     "duration": 0.601648,
     "end_time": "2024-03-12T12:35:27.608873",
     "exception": false,
     "start_time": "2024-03-12T12:35:27.007225",
     "status": "completed"
    },
    "tags": []
   },
   "outputs": [
    {
     "data": {
      "image/png": "[encoded data removed]",
      "text/plain": [
       "<Figure size 800x500 with 1 Axes>"
      ]
     },
     "metadata": {},
     "output_type": "display_data"
    }
   ],
   "source": [
    "# Player style vs Final price vs Status\n",
    "plt.figure(figsize=(8, 5))\n",
    "sns.barplot(data=df, x='player_style', y='final_price', hue='status')\n",
    "plt.xlabel('Player Style')\n",
    "plt.ylabel('Final Price')\n",
    "plt.title('Player Style vs Final Price by Status')\n",
    "plt.show()"
   ]
  },
  {
   "cell_type": "markdown",
   "id": "aed21d93",
   "metadata": {
    "papermill": {
     "duration": 0.027369,
     "end_time": "2024-03-12T12:35:27.663090",
     "exception": false,
     "start_time": "2024-03-12T12:35:27.635721",
     "status": "completed"
    },
    "tags": []
   },
   "source": [
    "**Insights:**\n",
    "- Larger final price for each player styles are retained by the franchise\n",
    "- Lower final price for each player style sold"
   ]
  },
  {
   "cell_type": "code",
   "execution_count": 32,
   "id": "d96a3c0b",
   "metadata": {
    "execution": {
     "iopub.execute_input": "2024-03-12T12:35:27.716728Z",
     "iopub.status.busy": "2024-03-12T12:35:27.715963Z",
     "iopub.status.idle": "2024-03-12T12:35:28.234007Z",
     "shell.execute_reply": "2024-03-12T12:35:28.233066Z"
    },
    "papermill": {
     "duration": 0.546368,
     "end_time": "2024-03-12T12:35:28.236274",
     "exception": false,
     "start_time": "2024-03-12T12:35:27.689906",
     "status": "completed"
    },
    "tags": []
   },
   "outputs": [
    {
     "data": {
      "image/png": "[encoded data removed]",
      "text/plain": [
       "<Figure size 800x500 with 1 Axes>"
      ]
     },
     "metadata": {},
     "output_type": "display_data"
    }
   ],
   "source": [
    "# Distribution of players across franchises by status\n",
    "plt.figure(figsize=(8, 5))\n",
    "sns.countplot(data=df, x='franchise', hue='status')\n",
    "plt.xlabel('Franchise')\n",
    "plt.ylabel('Count')\n",
    "plt.title('Distribution of Players Across Franchises by Status')\n",
    "plt.show()"
   ]
  },
  {
   "cell_type": "markdown",
   "id": "e33b62a5",
   "metadata": {
    "papermill": {
     "duration": 0.027548,
     "end_time": "2024-03-12T12:35:28.288731",
     "exception": false,
     "start_time": "2024-03-12T12:35:28.261183",
     "status": "completed"
    },
    "tags": []
   },
   "source": [
    "**Insights:**\n",
    "- DC retained most of its players and bought the least new players\n",
    "- SRH bought mostly new players compared to retained ones"
   ]
  },
  {
   "cell_type": "markdown",
   "id": "a1b24dba",
   "metadata": {
    "papermill": {
     "duration": 0.02537,
     "end_time": "2024-03-12T12:35:28.343835",
     "exception": false,
     "start_time": "2024-03-12T12:35:28.318465",
     "status": "completed"
    },
    "tags": []
   },
   "source": [
    "## Conclusion:\n",
    "- The Mumbai Indians (MI) franchise spent the most on players, with an average spending of 409 lacs.\n",
    "- The Punjab Kings (PBKS) bought the most expensive player, Sam Curran, at 1850 lacs.\n",
    "- Wicket_batters are the costliest player style on average, followed by batters.\n",
    "- Larger final price for each player styles are retained by the franchise while lower final price for each player style sold\n",
    "- The nationality with the costliest players is England.\n",
    "- Various franchises have different strategies for player retention and acquisition, as observed from the distribution of players across franchises by status.\n",
    "\n",
    "Further analysis could explore the impact of player performance metrics on their final prices or delve deeper into franchise strategies based on player styles. Additionally, collecting data over multiple IPL seasons could provide insights into long-term trends and changes in player valuation dynamics."
   ]
  },
  {
   "cell_type": "code",
   "execution_count": null,
   "id": "ed91873d",
   "metadata": {
    "papermill": {
     "duration": 0.025876,
     "end_time": "2024-03-12T12:35:28.396686",
     "exception": false,
     "start_time": "2024-03-12T12:35:28.370810",
     "status": "completed"
    },
    "tags": []
   },
   "outputs": [],
   "source": []
  }
 ],
 "metadata": {
  "kaggle": {
   "accelerator": "none",
   "dataSources": [
    {
     "datasetId": 4215396,
     "sourceId": 7271664,
     "sourceType": "datasetVersion"
    }
   ],
   "dockerImageVersionId": 30664,
   "isGpuEnabled": false,
   "isInternetEnabled": false,
   "language": "python",
   "sourceType": "notebook"
  },
  "kernelspec": {
   "display_name": "Python 3 (ipykernel)",
   "language": "python",
   "name": "python3"
  },
  "language_info": {
   "codemirror_mode": {
    "name": "ipython",
    "version": 3
   },
   "file_extension": ".py",
   "mimetype": "text/x-python",
   "name": "python",
   "nbconvert_exporter": "python",
   "pygments_lexer": "ipython3",
   "version": "3.7.4"
  },
  "papermill": {
   "default_parameters": {},
   "duration": 15.060419,
   "end_time": "2024-03-12T12:35:29.144427",
   "environment_variables": {},
   "exception": null,
   "input_path": "__notebook__.ipynb",
   "output_path": "__notebook__.ipynb",
   "parameters": {},
   "start_time": "2024-03-12T12:35:14.084008",
   "version": "2.5.0"
  },
  "toc": {
   "base_numbering": 1,
   "nav_menu": {},
   "number_sections": false,
   "sideBar": true,
   "skip_h1_title": true,
   "title_cell": "Table of Contents",
   "title_sidebar": "Contents",
   "toc_cell": true,
   "toc_position": {},
   "toc_section_display": true,
   "toc_window_display": true
  }
 },
 "nbformat": 4,
 "nbformat_minor": 5
}
